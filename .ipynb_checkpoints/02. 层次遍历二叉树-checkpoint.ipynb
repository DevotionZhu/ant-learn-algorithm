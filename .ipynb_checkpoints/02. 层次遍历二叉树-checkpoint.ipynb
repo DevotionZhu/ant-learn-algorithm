{
 "cells": [
  {
   "cell_type": "markdown",
   "metadata": {},
   "source": [
    "## 层次遍历二叉树"
   ]
  },
  {
   "cell_type": "code",
   "execution_count": 1,
   "metadata": {},
   "outputs": [],
   "source": [
    "class Node(object):\n",
    "    def __init__(self, data, left=None, right=None):\n",
    "        self.data = data\n",
    "        self.left = left\n",
    "        self.right = right"
   ]
  },
  {
   "cell_type": "code",
   "execution_count": 2,
   "metadata": {},
   "outputs": [],
   "source": [
    "tree = Node(\n",
    "    1, \n",
    "    Node(\n",
    "        2, \n",
    "        Node(4,\n",
    "            Node(8),\n",
    "            Node(9)),\n",
    "        Node(5)\n",
    "    ),\n",
    "    Node(3, \n",
    "         Node(6), \n",
    "         Node(7)\n",
    "        )\n",
    ")"
   ]
  },
  {
   "cell_type": "code",
   "execution_count": 3,
   "metadata": {},
   "outputs": [],
   "source": [
    "def level_visit(root):\n",
    "    # 使用列表模拟queue\n",
    "    stack = [root]\n",
    "    while stack:\n",
    "        # 删除list的最开始的元素\n",
    "        current = stack.pop(0)\n",
    "        print(current.data, end=\",\")\n",
    "        if current.left:\n",
    "            stack.append(current.left)\n",
    "        if current.right:\n",
    "            stack.append(current.right)"
   ]
  },
  {
   "cell_type": "code",
   "execution_count": 4,
   "metadata": {},
   "outputs": [],
   "source": [
    "level_visit(tree)"
   ]
  }
 ],
 "metadata": {
  "kernelspec": {
   "display_name": "Python 3",
   "language": "python",
   "name": "python3"
  },
  "language_info": {
   "codemirror_mode": {
    "name": "ipython",
    "version": 3
   },
   "file_extension": ".py",
   "mimetype": "text/x-python",
   "name": "python",
   "nbconvert_exporter": "python",
   "pygments_lexer": "ipython3",
   "version": "3.7.3"
  }
 },
 "nbformat": 4,
 "nbformat_minor": 2
}

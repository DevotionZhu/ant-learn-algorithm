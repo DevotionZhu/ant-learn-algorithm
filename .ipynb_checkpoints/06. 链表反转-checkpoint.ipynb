{
 "cells": [
  {
   "cell_type": "markdown",
   "metadata": {},
   "source": [
    "## 链表反转\n",
    "\n",
    "三个指针的应用：原列表的头指针、新列表的头指针、原列表的头指针的第二个指针(第二指针)"
   ]
  },
  {
   "cell_type": "code",
   "execution_count": 1,
   "metadata": {},
   "outputs": [],
   "source": [
    "class Node:\n",
    "    def __init__(self, data):\n",
    "        self.data = data\n",
    "        self.next = None\n",
    "\n",
    "root, p1, p2, p3, p4, p5 = Node(0), Node(1), Node(2), Node(3), Node(4), Node(5)\n",
    "root.next, p1.next, p2.next, p3.next, p4.next = (\n",
    "    p1, p2, p3, p4, p5 )"
   ]
  },
  {
   "cell_type": "code",
   "execution_count": 2,
   "metadata": {},
   "outputs": [
    {
     "name": "stdout",
     "output_type": "stream",
     "text": [
      "0,1,2,3,4,5,"
     ]
    }
   ],
   "source": [
    "def print_list(root):\n",
    "    iter_node = root\n",
    "    while iter_node:\n",
    "        print(iter_node.data, end=\",\")\n",
    "        iter_node = iter_node.next\n",
    "print_list(root)"
   ]
  },
  {
   "cell_type": "code",
   "execution_count": 3,
   "metadata": {},
   "outputs": [],
   "source": [
    "def reverse_list(root):\n",
    "    \"\"\" 链表反转 \"\"\"\n",
    "    if not root or not root.next:\n",
    "        return root\n",
    "    \n",
    "    # 指向新的首节点\n",
    "    new_root = None\n",
    "    curr_node = root\n",
    "    while curr_node:\n",
    "        # 保存当前节点的下一个节点\n",
    "        next_node = curr_node.next   \n",
    "        # 让当前节点的下一个节点变成新列表的root\n",
    "        curr_node.next = new_root\n",
    "        new_root = curr_node\n",
    "        # 当前节点往下遍历\n",
    "        curr_node = next_node\n",
    "    return new_root"
   ]
  },
  {
   "cell_type": "code",
   "execution_count": 4,
   "metadata": {},
   "outputs": [
    {
     "name": "stdout",
     "output_type": "stream",
     "text": [
      "5,4,3,2,1,0,"
     ]
    }
   ],
   "source": [
    "print_list(reverse_list(root))"
   ]
  }
 ],
 "metadata": {
  "kernelspec": {
   "display_name": "Python 3",
   "language": "python",
   "name": "python3"
  },
  "language_info": {
   "codemirror_mode": {
    "name": "ipython",
    "version": 3
   },
   "file_extension": ".py",
   "mimetype": "text/x-python",
   "name": "python",
   "nbconvert_exporter": "python",
   "pygments_lexer": "ipython3",
   "version": "3.7.3"
  }
 },
 "nbformat": 4,
 "nbformat_minor": 2
}

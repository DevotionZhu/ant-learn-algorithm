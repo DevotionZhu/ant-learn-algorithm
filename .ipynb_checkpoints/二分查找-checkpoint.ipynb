{
 "cells": [
  {
   "cell_type": "markdown",
   "metadata": {},
   "source": [
    "## 二分查找"
   ]
  },
  {
   "cell_type": "markdown",
   "metadata": {},
   "source": [
    "假设表中元素是按升序排列  \n",
    "\n",
    "将表中间位置记录的关键字与查找关键字比较，如果两者相等，则查找成功；  \n",
    "\n",
    "否则利用中间位置记录将表分成前、后两个子表:  \n",
    "  如果中间位置记录的关键字大于查找关键字，则进一步查找前一子表，否则进一步查找后一子表。\n",
    "  \n",
    "伪装题目：  \n",
    "1、找出最近出问题的git版本号"
   ]
  },
  {
   "cell_type": "code",
   "execution_count": 3,
   "metadata": {},
   "outputs": [],
   "source": [
    "def binary_search(alist, item):\n",
    "    \"\"\"二分查找 非递归方式，返回结果索引\"\"\"\n",
    "    n = len(alist)\n",
    "    start = 0\n",
    "    end = n - 1\n",
    "    while start <= end:\n",
    "        mid = (start + end) // 2\n",
    "        if alist[mid] == item:\n",
    "            return mid\n",
    "        elif item < alist[mid]:\n",
    "            end = mid - 1\n",
    "        else:\n",
    "            start = mid + 1\n",
    "    return -1"
   ]
  },
  {
   "cell_type": "code",
   "execution_count": 4,
   "metadata": {},
   "outputs": [
    {
     "data": {
      "text/plain": [
       "2"
      ]
     },
     "execution_count": 4,
     "metadata": {},
     "output_type": "execute_result"
    }
   ],
   "source": [
    "binary_search([1,2,3,4,5,6], 3)"
   ]
  },
  {
   "cell_type": "code",
   "execution_count": 5,
   "metadata": {},
   "outputs": [],
   "source": [
    "def binary_search_2(alist, item):\n",
    "    \"\"\"二分查找 递归方式，返回结果索引\"\"\"\n",
    "    n = len(alist)\n",
    "    if 0 == n:\n",
    "        return -1\n",
    "    mid = n // 2\n",
    "    if alist[mid] == item:\n",
    "        return mid\n",
    "    elif item < alist[mid]:\n",
    "        return binary_search_2(alist[:mid], item)\n",
    "    else:\n",
    "        return binary_search_2(alist[mid + 1:], item)"
   ]
  },
  {
   "cell_type": "code",
   "execution_count": 6,
   "metadata": {},
   "outputs": [
    {
     "data": {
      "text/plain": [
       "2"
      ]
     },
     "execution_count": 6,
     "metadata": {},
     "output_type": "execute_result"
    }
   ],
   "source": [
    "binary_search([1,2,3,4,5,6], 3)"
   ]
  },
  {
   "cell_type": "code",
   "execution_count": null,
   "metadata": {},
   "outputs": [],
   "source": []
  }
 ],
 "metadata": {
  "kernelspec": {
   "display_name": "Python 3",
   "language": "python",
   "name": "python3"
  },
  "language_info": {
   "codemirror_mode": {
    "name": "ipython",
    "version": 3
   },
   "file_extension": ".py",
   "mimetype": "text/x-python",
   "name": "python",
   "nbconvert_exporter": "python",
   "pygments_lexer": "ipython3",
   "version": "3.7.3"
  }
 },
 "nbformat": 4,
 "nbformat_minor": 2
}

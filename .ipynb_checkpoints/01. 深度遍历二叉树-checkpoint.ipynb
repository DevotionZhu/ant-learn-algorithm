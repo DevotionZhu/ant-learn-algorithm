{
 "cells": [
  {
   "cell_type": "markdown",
   "metadata": {},
   "source": [
    "<img src=\"binary_tree.png\" style=\"margin-left:0; width:200px;\"/>"
   ]
  },
  {
   "cell_type": "code",
   "execution_count": 12,
   "metadata": {},
   "outputs": [],
   "source": [
    "class Node(object):\n",
    "    def __init__(self, data, left=None, right=None):\n",
    "        self.data = data\n",
    "        self.left = left\n",
    "        self.right = right"
   ]
  },
  {
   "cell_type": "code",
   "execution_count": 13,
   "metadata": {},
   "outputs": [],
   "source": [
    "tree = Node(\n",
    "    1, \n",
    "    Node(\n",
    "        2, \n",
    "        Node(4,\n",
    "            Node(8), \n",
    "            Node(9)),\n",
    "        Node(5)),\n",
    "    Node(3, \n",
    "         Node(6, Node(10)),  \n",
    "         Node(7) )\n",
    ")"
   ]
  },
  {
   "cell_type": "code",
   "execution_count": 14,
   "metadata": {},
   "outputs": [],
   "source": [
    "def deep_visit(root):\n",
    "    \"\"\"深度遍历二叉树\"\"\"\n",
    "    if not root: return\n",
    "    stack = [root]\n",
    "    while stack:\n",
    "        # list.pop默认移除最后一个元素\n",
    "        current = stack.pop()\n",
    "        print(current.data, end=',')\n",
    "        \n",
    "        if current.right:\n",
    "            stack.append(current.right)\n",
    "            \n",
    "        if current.left:\n",
    "            stack.append(current.left)"
   ]
  },
  {
   "cell_type": "code",
   "execution_count": 15,
   "metadata": {},
   "outputs": [
    {
     "name": "stdout",
     "output_type": "stream",
     "text": [
      "1,2,4,8,9,5,3,6,10,7,"
     ]
    }
   ],
   "source": [
    "deep_visit(tree)"
   ]
  }
 ],
 "metadata": {
  "kernelspec": {
   "display_name": "Python 3",
   "language": "python",
   "name": "python3"
  },
  "language_info": {
   "codemirror_mode": {
    "name": "ipython",
    "version": 3
   },
   "file_extension": ".py",
   "mimetype": "text/x-python",
   "name": "python",
   "nbconvert_exporter": "python",
   "pygments_lexer": "ipython3",
   "version": "3.7.3"
  }
 },
 "nbformat": 4,
 "nbformat_minor": 2
}

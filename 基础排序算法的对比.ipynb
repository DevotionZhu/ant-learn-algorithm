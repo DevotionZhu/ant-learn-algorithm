{
 "cells": [
  {
   "cell_type": "markdown",
   "metadata": {},
   "source": [
    "## 基础排序算法\n",
    "\n",
    "不一定要实现代码，但是要知道思路，以及时间复杂度"
   ]
  },
  {
   "cell_type": "markdown",
   "metadata": {},
   "source": [
    "<img src=\"base_sort_algorithms.png\" style=\"margin-left:0px\"/>"
   ]
  },
  {
   "cell_type": "markdown",
   "metadata": {},
   "source": [
    "### 1.直接插入排序\n",
    "\n",
    "原理：将数组分为无序区和有序区两个区，然后不断将无序区的第一个元素按大小顺序插入到有序区中去，最终将所有无序区元素都移动到有序区完成排序。\n",
    "\n",
    "要点：设立哨兵，作为临时存储和判断数组边界之用。"
   ]
  },
  {
   "cell_type": "markdown",
   "metadata": {},
   "source": [
    "### 2.希尔排序\n",
    "\n",
    "原理：又称增量缩小排序。先将序列按增量划分为元素个数相同的若干组，使用直接插入排序法进行排序，然后不断缩小增量直至为1，最后使用直接插入排序完成排序。\n",
    "\n",
    "要点：增量的选择以及排序最终以1为增量进行排序结束。"
   ]
  },
  {
   "cell_type": "markdown",
   "metadata": {},
   "source": [
    "### 3.冒泡排序\n",
    "\n",
    "原理：将序列划分为无序和有序区，不断通过交换较大元素至无序区尾完成排序。\n",
    "\n",
    "要点：设计交换判断条件，提前结束以排好序的序列循环。"
   ]
  },
  {
   "cell_type": "markdown",
   "metadata": {},
   "source": [
    "### 4.快速排序\n",
    "\n",
    "原理：不断寻找一个序列的中点，然后对中点左右的序列递归的进行排序，直至全部序列排序完成，使用了分治的思想。\n",
    "\n",
    "要点：递归、分治"
   ]
  },
  {
   "cell_type": "markdown",
   "metadata": {},
   "source": [
    "### 5.直接选择排序\n",
    "\n",
    "原理：将序列划分为无序和有序区，寻找无序区中的最小值和无序区的首元素交换，有序区扩大一个，循环最终完成全部排序。  \n",
    "要点："
   ]
  },
  {
   "cell_type": "markdown",
   "metadata": {},
   "source": [
    "### 6.堆排序\n",
    "\n",
    "原理：利用大根堆或小根堆思想，首先建立堆，然后将堆首与堆尾交换，堆尾之后为有序区。\n",
    "\n",
    "要点：建堆、交换、调整堆"
   ]
  },
  {
   "cell_type": "markdown",
   "metadata": {},
   "source": [
    "### 7.归并排序\n",
    "\n",
    "原理：将原序列划分为有序的两个序列，然后利用归并算法进行合并，合并之后即为有序序列。\n",
    "\n",
    "要点：归并、分治"
   ]
  },
  {
   "cell_type": "markdown",
   "metadata": {},
   "source": [
    "### 8.基数排序\n",
    "\n",
    "原理：将数字按位数划分出n个关键字，每次针对一个关键字进行排序，然后针对排序后的序列进行下一个关键字的排序，循环至所有关键字都使用过则排序完成。\n",
    "\n",
    "要点：对关键字的选取，元素分配收集。"
   ]
  },
  {
   "cell_type": "code",
   "execution_count": null,
   "metadata": {},
   "outputs": [],
   "source": []
  }
 ],
 "metadata": {
  "kernelspec": {
   "display_name": "Python 3",
   "language": "python",
   "name": "python3"
  },
  "language_info": {
   "codemirror_mode": {
    "name": "ipython",
    "version": 3
   },
   "file_extension": ".py",
   "mimetype": "text/x-python",
   "name": "python",
   "nbconvert_exporter": "python",
   "pygments_lexer": "ipython3",
   "version": "3.7.4"
  }
 },
 "nbformat": 4,
 "nbformat_minor": 2
}
